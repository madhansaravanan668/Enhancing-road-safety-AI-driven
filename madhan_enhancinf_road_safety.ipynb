{
  "nbformat": 4,
  "nbformat_minor": 0,
  "metadata": {
    "colab": {
      "provenance": [],
      "authorship_tag": "ABX9TyONp05Dyg/9mXE5vtWXKdzf",
      "include_colab_link": true
    },
    "kernelspec": {
      "name": "python3",
      "display_name": "Python 3"
    },
    "language_info": {
      "name": "python"
    }
  },
  "cells": [
    {
      "cell_type": "markdown",
      "metadata": {
        "id": "view-in-github",
        "colab_type": "text"
      },
      "source": [
        "<a href=\"https://colab.research.google.com/github/madhansaravanan668/Enhancing-road-safety-AI-driven/blob/main/madhan_enhancinf_road_safety.ipynb\" target=\"_parent\"><img src=\"https://colab.research.google.com/assets/colab-badge.svg\" alt=\"Open In Colab\"/></a>"
      ]
    },
    {
      "cell_type": "code",
      "execution_count": null,
      "metadata": {
        "id": "IW1DTyvDIRLr"
      },
      "outputs": [],
      "source": [
        "Open In Colab\n",
        "\n",
        "import cv2\n",
        "import dlib\n",
        "from scipy.spatial import distance\n",
        "\n",
        "# Eye aspect ratio calculation\n",
        "def eye_aspect_ratio(eye):\n",
        "    A = distance.euclidean(eye[1], eye[5])\n",
        "    B = distance.euclidean(eye[2], eye[4])\n",
        "    C = distance.euclidean(eye[0], eye[3])\n",
        "    return (A + B) / (2.0 * C)\n",
        "\n",
        "# Load face and landmark predictor\n",
        "face_detector = dlib.get_frontal_face_detector()\n",
        "predictor = dlib.shape_predictor(\"shape_predictor_68_face_landmarks.dat\")\n",
        "\n",
        "# Start video stream\n",
        "cap = cv2.VideoCapture(0)\n",
        "eye_thresh = 0.25\n",
        "frame_check = 20\n",
        "counter = 0\n",
        "\n",
        "while True:\n",
        "    ret, frame = cap.read()\n",
        "    gray = cv2.cvtColor(frame, cv2\n",
        "import cv2\n",
        "import dlib\n",
        "from scipy.spatial import distance\n",
        "\n",
        "# Eye aspect ratio calculation\n",
        "def eye_aspect_ratio(eye):\n",
        "    A = distance.euclidean(eye[1], eye[5])\n",
        "    B = distance.euclidean(eye[2], eye[4])\n",
        "    C = distance.euclidean(eye[0], eye[3])\n",
        "    return (A + B) / (2.0 * C)\n",
        "\n",
        "# Load face and landmark predictor\n",
        "face_detector = dlib.get_frontal_face_detector()\n",
        "predictor = dlib.shape_predictor(\"shape_predictor_68_face_landmarks.dat\")\n",
        "\n",
        "# Start video stream\n",
        "cap = cv2.VideoCapture(0)\n",
        "eye_thresh = 0.25\n",
        "frame_check = 20\n",
        "counter = 0\n",
        "\n",
        "while True:\n",
        "    ret, frame = cap.read()\n",
        "    gray = cv2.cvtColor(frame, cv2\n"
      ]
    }
  ]
}