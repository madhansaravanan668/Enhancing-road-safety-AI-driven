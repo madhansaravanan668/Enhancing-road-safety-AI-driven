{
  "nbformat": 4,
  "nbformat_minor": 0,
  "metadata": {
    "colab": {
      "provenance": [],
      "authorship_tag": "ABX9TyMniCAwG/m+5Zjz896it5js",
      "include_colab_link": true
    },
    "kernelspec": {
      "name": "python3",
      "display_name": "Python 3"
    },
    "language_info": {
      "name": "python"
    }
  },
  "cells": [
    {
      "cell_type": "markdown",
      "metadata": {
        "id": "view-in-github",
        "colab_type": "text"
      },
      "source": [
        "<a href=\"https://colab.research.google.com/github/madhansaravanan668/Enhancing-road-safety-AI-driven/blob/main/Enhancing_road_safety_AI_driven.ipynb\" target=\"_parent\"><img src=\"https://colab.research.google.com/assets/colab-badge.svg\" alt=\"Open In Colab\"/></a>"
      ]
    },
    {
      "cell_type": "code",
      "execution_count": null,
      "metadata": {
        "id": "leXvtFQcSB-S"
      },
      "outputs": [],
      "source": [
        "import cv2\n",
        "import dlib\n",
        "from scipy.spatial import distance\n",
        "\n",
        "# Eye aspect ratio\n",
        "def eye_aspect_ratio(eye):\n",
        "    A = distance.euclidean(eye[1], eye[5])\n",
        "    B = distance.euclidean(eye[2], eye[4])\n",
        "    C = distance.euclidean(eye[0], eye[3])\n",
        "    return (A + B) / (2.0 * C)\n",
        "\n",
        "# Load detector and predictor\n",
        "detector = dlib.get_frontal_face_detector()\n",
        "predictor = dlib.shape_predictor('shape_predictor_68_face_landmarks.dat')\n",
        "\n",
        "# Eye landmarks\n",
        "(lStart, lEnd) = (42, 48)\n",
        "(rStart, rEnd) = (36, 42)\n",
        "\n",
        "EYE_AR_THRESH = 0.25\n",
        "EYE_AR_CONSEC_FRAMES = 48\n",
        "\n",
        "counter = 0\n",
        "cap = cv2.VideoCapture(0)\n",
        "\n",
        "while True:\n",
        "    ret, frame = cap.read()\n",
        "    gray = cv2.cvtColor(frame, cv2.COLOR_BGR2GRAY)\n",
        "    faces = detector(gray, 0)\n",
        "\n",
        "    for face in faces:\n",
        "        shape = predictor(gray, face)\n",
        "        leftEye = [tuple(shape.part(i).x, shape.part(i).y) for i in range(lStart, lEnd)]\n",
        "        rightEye = [tuple(shape.part(i).x, shape.part(i).y) for i in range(rStart, rEnd)]\n",
        "\n",
        "        leftEAR = eye_aspect_ratio(leftEye)\n",
        "        rightEAR = eye_aspect_ratio(rightEye)\n",
        "        ear = (leftEAR + rightEAR) / 2.0\n",
        "\n",
        "        if ear < EYE_AR_THRESH:\n",
        "            counter += 1\n",
        "            if counter\n"
      ]
    }
  ]
}